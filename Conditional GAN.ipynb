{
  "cells": [
    {
      "cell_type": "code",
      "execution_count": 1,
      "metadata": {
        "id": "LWBFUy2TXiaZ"
      },
      "outputs": [],
      "source": [
        "import torch\n",
        "import torch.nn as nn\n",
        "from torch.nn.modules.batchnorm import BatchNorm2d\n",
        "from torch.nn.modules.activation import ReLU"
      ]
    },
    {
      "cell_type": "code",
      "execution_count": 2,
      "metadata": {
        "id": "dQWNmllsp0sh"
      },
      "outputs": [],
      "source": [
        "def gradient_penalty(critic,labels,real,fake,device=\"cpu\"):\n",
        "  BATCH_SIZE,C,H,W = real.shape\n",
        "  epsilon = torch.rand((BATCH_SIZE,1,1,1)).repeat(1,C,H,W).to(device)\n",
        "  interpolated_images = real*epsilon+fake*(1-epsilon)\n",
        "  mixed_scores = critic(interpolated_images,labels)\n",
        "\n",
        "  gradient = torch.autograd.grad(\n",
        "      inputs = interpolated_images,\n",
        "      outputs = mixed_scores,\n",
        "      grad_outputs = torch.ones_like(mixed_scores),\n",
        "      create_graph = True,\n",
        "      retain_graph = True,\n",
        "  )[0]\n",
        "\n",
        "  gradient = gradient.view(gradient.shape[0],-1)\n",
        "  gradient_norm = gradient.norm(2,dim=1)\n",
        "  gradient_penalty = torch.mean((gradient_norm-1)**2)\n",
        "  return gradient_penalty"
      ]
    },
    {
      "cell_type": "code",
      "execution_count": 3,
      "metadata": {
        "id": "FmGtLl6ffx2p"
      },
      "outputs": [],
      "source": [
        "class Critic(nn.Module):\n",
        "  def __init__ (self, channels_img, features_d,num_classes,img_size):\n",
        "    super(Critic,self).__init__()\n",
        "    self.img_size = img_size\n",
        "    self.critic = nn.Sequential(\n",
        "        #64x64\n",
        "        nn.Conv2d(channels_img+1, features_d, kernel_size=4,stride=2, padding = 1),#32x32 \n",
        "        nn.LeakyReLU(0.2),\n",
        "        self._block(features_d,features_d * 2 , 4 , 2 , 1),#16x16\n",
        "        self._block(features_d * 2,features_d * 4 , 4 , 2 , 1),#8x8\n",
        "        self._block(features_d * 4,features_d * 8 , 4 , 2 , 1),#4x4\n",
        "        nn.Conv2d(features_d*8,1, kernel_size=4,stride=2, padding = 0),#1x1\n",
        "    )\n",
        "    self.embed = nn.Embedding(num_classes, img_size**2)\n",
        "\n",
        "  def _block(self, in_channels, out_channels, kernel_size, stride, padding):\n",
        "    return nn.Sequential(\n",
        "        nn.Conv2d(\n",
        "            in_channels,\n",
        "            out_channels,\n",
        "            kernel_size,\n",
        "            stride,\n",
        "            padding,\n",
        "            bias = False,\n",
        "        ),\n",
        "        nn.InstanceNorm2d(out_channels,affine =True),\n",
        "        nn.LeakyReLU(0.2),\n",
        "    )\n",
        "  def forward(self,x,labels):\n",
        "    embedding = self.embed(labels).view(labels.shape[0],1,self.img_size,self.img_size) # bugs witch channels_img??????\n",
        "    x = torch.cat([x, embedding],dim = 1)\n",
        "    return self.critic(x)"
      ]
    },
    {
      "cell_type": "code",
      "execution_count": 4,
      "metadata": {
        "id": "xok7HCiah0Nq"
      },
      "outputs": [],
      "source": [
        "class Generator(nn.Module):\n",
        "  def __init__ (self,z_dim,channels_img,features_g,num_classes,img_size,embed_size):\n",
        "    super(Generator,self).__init__()\n",
        "    self.img_size = img_size\n",
        "    self.net = nn.Sequential(\n",
        "        # N x z_dim x 1 x 1\n",
        "        self._block(z_dim + embed_size,features_g * 16, 4 , 1 , 0),# N x f_g*16 x 4 x 4 \n",
        "        self._block(features_g * 16,features_g * 8, 4 , 2 , 1),# 8x8\n",
        "        self._block(features_g * 8,features_g * 4, 4 , 2 , 1),# 16x16\n",
        "        self._block(features_g * 4,features_g * 2, 4 , 2 , 1),# 32x32\n",
        "        nn.ConvTranspose2d(features_g*2,channels_img,kernel_size=4,stride = 2, padding = 1,),\n",
        "        nn.Tanh(),\n",
        "    )\n",
        "    self.embed = nn.Embedding(num_classes,embed_size)\n",
        "  def _block(self,in_channels,out_channels,kernel_size,stride,padding):\n",
        "    return nn.Sequential(\n",
        "        nn.ConvTranspose2d(\n",
        "            in_channels,\n",
        "            out_channels,\n",
        "            kernel_size,\n",
        "            stride,\n",
        "            padding,\n",
        "            bias = False,\n",
        "        ),\n",
        "        nn.BatchNorm2d(out_channels),\n",
        "        nn.ReLU(),\n",
        "    )\n",
        "  def forward(self,x,labels): #how this works\n",
        "    embedding = self.embed(labels).unsqueeze(2).unsqueeze(3)\n",
        "    x = torch.cat([x,embedding],dim =1)\n",
        "    return self.net(x)"
      ]
    },
    {
      "cell_type": "code",
      "execution_count": 5,
      "metadata": {
        "id": "hazb-kd7k4DW"
      },
      "outputs": [],
      "source": [
        "def initialize_weights(model):\n",
        "  for m in model.modules():\n",
        "    if isinstance(m,(nn.Conv2d, nn.ConvTranspose2d, nn.BatchNorm2d)):\n",
        "      nn.init.normal_(m.weight.data,0.0,0.02)"
      ]
    },
    {
      "cell_type": "code",
      "execution_count": 6,
      "metadata": {
        "id": "PmFyNlFup6HR"
      },
      "outputs": [],
      "source": [
        "def test():\n",
        "  N, in_channels, H, W = 8, 3, 64, 64\n",
        "  z_dim = 100\n",
        "\n",
        "  x = torch.randn((N, in_channels, H, W))\n",
        "  critic = Critic(in_channels,8)\n",
        "  assert critic(x).shape == (N, 1, 1, 1), \"Critic test failed\"\n",
        "\n",
        "  gen = Generator(z_dim, in_channels, 8)\n",
        "  z = torch.randn((N, z_dim, 1, 1))\n",
        "  assert gen(z).shape == (N, in_channels, H, W), \"Generator test failed\"\n",
        "  print(\"success\")"
      ]
    },
    {
      "cell_type": "code",
      "execution_count": 7,
      "metadata": {
        "colab": {
          "base_uri": "https://localhost:8080/"
        },
        "id": "ZqugjuzeqbGr",
        "outputId": "b93dc088-0c1d-42e7-ca25-fc99235bdab0"
      },
      "outputs": [
        {
          "name": "stdout",
          "output_type": "stream",
          "text": [
            "success\n"
          ]
        }
      ],
      "source": [
        "test()"
      ]
    },
    {
      "cell_type": "code",
      "execution_count": 8,
      "metadata": {
        "id": "pzRPX0a4vNkx"
      },
      "outputs": [],
      "source": [
        "import torch.optim as optim\n",
        "import torchvision\n",
        "import torchvision.datasets as datasets\n",
        "import torchvision.transforms as transforms\n",
        "from torch.utils.data import DataLoader\n",
        "from torch.utils.tensorboard import SummaryWriter"
      ]
    },
    {
      "cell_type": "code",
      "execution_count": 9,
      "metadata": {
        "id": "ZsTZ0F1xvTBb"
      },
      "outputs": [],
      "source": [
        "# Hyperparameters etc.\n",
        "device = torch.device(\"cuda\" if torch.cuda.is_available() else \"cpu\")\n",
        "LEARNING_RATE = 1e-4\n",
        "BATCH_SIZE = 64\n",
        "IMAGE_SIZE = 64\n",
        "CHANNELS_IMG = 1\n",
        "NUM_CLASSES = 10\n",
        "GEN_EMBEDDING = 100\n",
        "Z_DIM = 100\n",
        "NUM_EPOCHS = 5\n",
        "FEATURES_DISC = 64\n",
        "FEATURES_GEN = 64\n",
        "CRITIC_ITERATION = 5\n",
        "LAMBDA_GP = 10"
      ]
    },
    {
      "cell_type": "code",
      "execution_count": 10,
      "metadata": {
        "id": "yo9RaSa1wg36"
      },
      "outputs": [],
      "source": [
        "transforms = transforms.Compose(\n",
        "    [\n",
        "        transforms.Resize(IMAGE_SIZE),\n",
        "        transforms.ToTensor(),\n",
        "        transforms.Normalize(\n",
        "            [0.5 for _ in range(CHANNELS_IMG)], [0.5 for _ in range(CHANNELS_IMG)]\n",
        "        ),\n",
        "    ]\n",
        ")"
      ]
    },
    {
      "cell_type": "code",
      "execution_count": 11,
      "metadata": {
        "id": "FapM2gWIwhYo"
      },
      "outputs": [],
      "source": [
        "dataset = datasets.MNIST(root = \"dataset/\",train = True, transform = transforms, download = True)\n",
        "loader = DataLoader(dataset,batch_size = BATCH_SIZE,shuffle = True)"
      ]
    },
    {
      "cell_type": "code",
      "execution_count": 12,
      "metadata": {
        "id": "XFzzt7vOxcSc"
      },
      "outputs": [],
      "source": [
        "gen = Generator(Z_DIM, CHANNELS_IMG,FEATURES_GEN,NUM_CLASSES,IMAGE_SIZE,GEN_EMBEDDING).to(device)\n",
        "critic = Critic(CHANNELS_IMG,FEATURES_DISC,NUM_CLASSES,IMAGE_SIZE).to(device)\n",
        "initialize_weights(gen)\n",
        "initialize_weights(critic)"
      ]
    },
    {
      "cell_type": "code",
      "execution_count": 13,
      "metadata": {
        "id": "m-YedZXdx6oH"
      },
      "outputs": [],
      "source": [
        "opt_gen = optim.Adam(gen.parameters(),lr = LEARNING_RATE,betas = (0.0,0.9))\n",
        "opt_critic = optim.Adam(critic.parameters(),lr = LEARNING_RATE,betas = (0.0,0.9))"
      ]
    },
    {
      "cell_type": "code",
      "execution_count": 14,
      "metadata": {
        "id": "kmf1vUU2yJ1c"
      },
      "outputs": [],
      "source": [
        "writen_real = SummaryWriter(f\"logs/real\")\n",
        "writen_fake = SummaryWriter(f\"logs/fake\")\n",
        "step = 0"
      ]
    },
    {
      "cell_type": "code",
      "execution_count": 15,
      "metadata": {
        "colab": {
          "base_uri": "https://localhost:8080/"
        },
        "id": "QHazflRmywLe",
        "outputId": "d2c26f57-d6c8-47e0-af6b-16f177b3a3d8"
      },
      "outputs": [
        {
          "data": {
            "text/plain": [
              "Critic(\n",
              "  (critic): Sequential(\n",
              "    (0): Conv2d(1, 64, kernel_size=(4, 4), stride=(2, 2), padding=(1, 1))\n",
              "    (1): LeakyReLU(negative_slope=0.2)\n",
              "    (2): Sequential(\n",
              "      (0): Conv2d(64, 128, kernel_size=(4, 4), stride=(2, 2), padding=(1, 1), bias=False)\n",
              "      (1): InstanceNorm2d(128, eps=1e-05, momentum=0.1, affine=True, track_running_stats=False)\n",
              "      (2): LeakyReLU(negative_slope=0.2)\n",
              "    )\n",
              "    (3): Sequential(\n",
              "      (0): Conv2d(128, 256, kernel_size=(4, 4), stride=(2, 2), padding=(1, 1), bias=False)\n",
              "      (1): InstanceNorm2d(256, eps=1e-05, momentum=0.1, affine=True, track_running_stats=False)\n",
              "      (2): LeakyReLU(negative_slope=0.2)\n",
              "    )\n",
              "    (4): Sequential(\n",
              "      (0): Conv2d(256, 512, kernel_size=(4, 4), stride=(2, 2), padding=(1, 1), bias=False)\n",
              "      (1): InstanceNorm2d(512, eps=1e-05, momentum=0.1, affine=True, track_running_stats=False)\n",
              "      (2): LeakyReLU(negative_slope=0.2)\n",
              "    )\n",
              "    (5): Conv2d(512, 1, kernel_size=(4, 4), stride=(2, 2))\n",
              "  )\n",
              ")"
            ]
          },
          "execution_count": 15,
          "metadata": {},
          "output_type": "execute_result"
        }
      ],
      "source": [
        "gen.train()\n",
        "critic.train()"
      ]
    },
    {
      "cell_type": "code",
      "execution_count": null,
      "metadata": {
        "colab": {
          "base_uri": "https://localhost:8080/"
        },
        "id": "m9FYW07ky08c",
        "outputId": "279af396-b159-4b30-e3bc-09fe7007f3cc"
      },
      "outputs": [
        {
          "name": "stdout",
          "output_type": "stream",
          "text": [
            "Epoch [0/5] Batch 0/938               Loss D: 65.8064, loss G: 4.8808\n",
            "Epoch [0/5] Batch 100/938               Loss D: -38.8260, loss G: 46.1698\n",
            "Epoch [0/5] Batch 200/938               Loss D: -5.9252, loss G: 43.5130\n",
            "Epoch [0/5] Batch 300/938               Loss D: -6.8480, loss G: 36.4607\n",
            "Epoch [0/5] Batch 400/938               Loss D: -6.3273, loss G: 31.1886\n",
            "Epoch [0/5] Batch 500/938               Loss D: -6.5994, loss G: 34.8394\n",
            "Epoch [0/5] Batch 600/938               Loss D: -7.3441, loss G: 29.7633\n",
            "Epoch [0/5] Batch 700/938               Loss D: -5.7495, loss G: 32.2783\n",
            "Epoch [0/5] Batch 800/938               Loss D: -4.7336, loss G: 29.8325\n",
            "Epoch [0/5] Batch 900/938               Loss D: -5.6575, loss G: 29.7220\n",
            "Epoch [1/5] Batch 0/938               Loss D: -3.8127, loss G: 27.6373\n",
            "Epoch [1/5] Batch 100/938               Loss D: -4.3145, loss G: 27.4836\n",
            "Epoch [1/5] Batch 200/938               Loss D: -3.1664, loss G: 27.0205\n",
            "Epoch [1/5] Batch 300/938               Loss D: -5.9979, loss G: 28.2036\n",
            "Epoch [1/5] Batch 400/938               Loss D: -4.9582, loss G: 20.7660\n",
            "Epoch [1/5] Batch 500/938               Loss D: -4.9086, loss G: 22.5867\n",
            "Epoch [1/5] Batch 600/938               Loss D: -3.7360, loss G: 20.9600\n",
            "Epoch [1/5] Batch 700/938               Loss D: -3.1887, loss G: 22.8395\n",
            "Epoch [1/5] Batch 800/938               Loss D: -7.0133, loss G: 23.8935\n",
            "Epoch [1/5] Batch 900/938               Loss D: -3.4495, loss G: 19.5484\n",
            "Epoch [2/5] Batch 0/938               Loss D: -2.9231, loss G: 21.1007\n"
          ]
        }
      ],
      "source": [
        "for epoch in range(NUM_EPOCHS):\n",
        "  for batch_idx, (real, labels) in enumerate(loader):\n",
        "    real = real.to(device)\n",
        "    cur_batch_size = real.shape[0]\n",
        "    labels = labels.to(device)\n",
        "    for _ in range(CRITIC_ITERATION):\n",
        "      noise = torch.randn((cur_batch_size,Z_DIM,1,1)).to(device)\n",
        "      fake = gen(noise,labels)\n",
        "      critic_real = critic(real,labels).reshape(-1)\n",
        "      critic_fake = critic(fake,labels).reshape(-1)\n",
        "      gp = gradient_penalty(critic,labels,real,fake,device = device)\n",
        "      loss_critic = -(torch.mean(critic_real) - torch.mean(critic_fake))+LAMBDA_GP*gp\n",
        "      critic.zero_grad()\n",
        "      loss_critic.backward(retain_graph = True)\n",
        "      opt_critic.step()\n",
        "\n",
        "      output = critic(fake,labels).reshape(-1)\n",
        "      loss_gen = -torch.mean(output)\n",
        "      gen.zero_grad()\n",
        "      loss_gen.backward()\n",
        "      opt_gen.step()\n",
        "\n",
        "    if batch_idx % 100 == 0:\n",
        "        print(\n",
        "            f\"Epoch [{epoch}/{NUM_EPOCHS}] Batch {batch_idx}/{len(loader)} \\\n",
        "              Loss D: {loss_critic:.4f}, loss G: {loss_gen:.4f}\"\n",
        "        )\n",
        "\n",
        "        with torch.no_grad():\n",
        "            fake = gen(noise,labels)\n",
        "            # take out (up to) 32 examples\n",
        "            img_grid_real = torchvision.utils.make_grid(real[:32], normalize=True)\n",
        "            img_grid_fake = torchvision.utils.make_grid(fake[:32], normalize=True)\n",
        "\n",
        "            writen_real.add_image(\"Real\", img_grid_real, global_step=step)\n",
        "            writen_fake.add_image(\"Fake\", img_grid_fake, global_step=step)\n",
        "\n",
        "        step += 1"
      ]
    },
    {
      "cell_type": "code",
      "execution_count": null,
      "metadata": {
        "id": "jwDWOgva4a4v"
      },
      "outputs": [],
      "source": [
        "%load_ext tensorboard\n",
        "%tensorboard --logdir logs/ --port=6010"
      ]
    }
  ],
  "metadata": {
    "accelerator": "GPU",
    "colab": {
      "gpuType": "T4",
      "provenance": []
    },
    "kernelspec": {
      "display_name": "Python 3",
      "name": "python3"
    },
    "language_info": {
      "name": "python"
    }
  },
  "nbformat": 4,
  "nbformat_minor": 0
}
