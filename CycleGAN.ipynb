{
  "nbformat": 4,
  "nbformat_minor": 0,
  "metadata": {
    "colab": {
      "provenance": [],
      "gpuType": "T4"
    },
    "kernelspec": {
      "name": "python3",
      "display_name": "Python 3"
    },
    "language_info": {
      "name": "python"
    },
    "accelerator": "GPU"
  },
  "cells": [
    {
      "cell_type": "code",
      "execution_count": 39,
      "metadata": {
        "id": "kyG1wLxKl1PA"
      },
      "outputs": [],
      "source": [
        "###CONFIG####\n",
        "import torch\n",
        "import albumentations as A\n",
        "from albumentations.pytorch import ToTensorV2\n",
        "\n",
        "DEVICE = \"cuda\" if torch.cuda.is_available() else \"cpu\"\n",
        "TRAIN_DIR = \"data/train\"\n",
        "VAL_DIR = \"data/val\"\n",
        "BATCH_SIZE = 1\n",
        "LEARNING_RATE = 1e-5\n",
        "LAMBDA_IDENTITY = 0.2 # (remove for efficiency if you set lambda_identity=0)\n",
        "LAMBDA_CYCLE = 10\n",
        "NUM_WORKERS = 2\n",
        "NUM_EPOCHS = 10\n",
        "LOAD_MODEL = False\n",
        "SAVE_MODEL = False\n",
        "CHECKPOINT_GEN_X = \"genX.pth.tar\"\n",
        "CHECKPOINT_GEN_Y = \"genY.pth.tar\"\n",
        "CHECKPOINT_CRITIC_X = \"criticX.pth.tar\"\n",
        "CHECKPOINT_CRITIC_Y = \"criticY.pth.tar\"\n",
        "\n",
        "transforms = A.Compose(\n",
        "    [\n",
        "        A.Resize(width=256, height=256),\n",
        "        A.HorizontalFlip(p=0.5),\n",
        "        A.ColorJitter(p = 0.1),\n",
        "        A.Normalize(mean=[0.5, 0.5, 0.5], std=[0.5, 0.5, 0.5], max_pixel_value=255),\n",
        "        ToTensorV2(),\n",
        "    ],\n",
        "    additional_targets={\"image0\": \"image\"},\n",
        ")"
      ]
    },
    {
      "cell_type": "code",
      "source": [
        "###UTILS###\n",
        "import random, os, numpy as np\n",
        "import torch.nn as nn\n",
        "import copy\n",
        "\n",
        "def save_checkpoint(model, optimizer, filename=\"my_checkpoint.pth.tar\"):\n",
        "    print(\"=> Saving checkpoint\")\n",
        "    checkpoint = {\n",
        "        \"state_dict\": model.state_dict(),\n",
        "        \"optimizer\": optimizer.state_dict(),\n",
        "    }\n",
        "    torch.save(checkpoint, filename)\n",
        "\n",
        "\n",
        "def load_checkpoint(checkpoint_file, model, optimizer, lr):\n",
        "    print(\"=> Loading checkpoint\")\n",
        "    checkpoint = torch.load(checkpoint_file, map_location=DEVICE)\n",
        "    model.load_state_dict(checkpoint[\"state_dict\"])\n",
        "    optimizer.load_state_dict(checkpoint[\"optimizer\"])\n",
        "\n",
        "    # If we don't do this then it will just have learning rate of old checkpoint\n",
        "    # and it will lead to many hours of debugging \\:\n",
        "    for param_group in optimizer.param_groups:\n",
        "        param_group[\"lr\"] = lr\n",
        "\n",
        "\n",
        "def seed_everything(seed=42): # why we need this?\n",
        "    os.environ[\"PYTHONHASHSEED\"] = str(seed)\n",
        "    random.seed(seed)\n",
        "    np.random.seed(seed)\n",
        "    torch.manual_seed(seed)\n",
        "    torch.cuda.manual_seed(seed)\n",
        "    torch.cuda.manual_seed_all(seed)\n",
        "    torch.backends.cudnn.deterministic = True\n",
        "    torch.backends.cudnn.benchmark = False"
      ],
      "metadata": {
        "id": "7zrv42jrm4tk"
      },
      "execution_count": 40,
      "outputs": []
    },
    {
      "cell_type": "code",
      "source": [
        "###DATASET###\n",
        "from PIL import Image\n",
        "from torch.utils.data import Dataset\n",
        "\n",
        "class XYDataset(Dataset):\n",
        "    def __init__(self, root_X, root_Y, transform=None):\n",
        "        self.root_X = root_X\n",
        "        self.root_Y = root_Y\n",
        "        self.transform = transform\n",
        "\n",
        "        self.X_images = os.listdir(root_X)\n",
        "        self.Y_images = os.listdir(root_Y)\n",
        "        self.length_dataset = max(len(self.X_images), len(self.Y_images)) # 1000, 1500\n",
        "        self.X_len = len(self.X_images)\n",
        "        self.Y_len = len(self.Y_images)\n",
        "\n",
        "    def __len__(self):\n",
        "        return self.length_dataset\n",
        "\n",
        "    def __getitem__(self, index):\n",
        "        X_img = self.X_images[index % self.X_len]\n",
        "        Y_img = self.Y_images[index % self.Y_len]\n",
        "\n",
        "        X_path = os.path.join(self.root_X, X_img)\n",
        "        Y_path = os.path.join(self.root_Y, Y_img)\n",
        "\n",
        "        X_img = np.array(Image.open(X_path).convert(\"RGB\"))\n",
        "        Y_img = np.array(Image.open(Y_path).convert(\"RGB\"))\n",
        "\n",
        "        if self.transform:\n",
        "            augmentations = self.transform(image=X_img, image0=Y_img)\n",
        "            X_img = augmentations[\"image\"]\n",
        "            Y_img = augmentations[\"image0\"]\n",
        "\n",
        "        return X_img, Y_img"
      ],
      "metadata": {
        "id": "vXH8OrdEnWb6"
      },
      "execution_count": 41,
      "outputs": []
    },
    {
      "cell_type": "code",
      "source": [
        "class BlockDisc(nn.Module):\n",
        "  def __init__(self, in_channels, out_channels, stride = 2): #!\n",
        "    super().__init__()\n",
        "    self.conv = nn.Sequential(\n",
        "        nn.Conv2d(in_channels, out_channels,4,stride,1, bias = True, padding_mode = \"reflect\"), #!\n",
        "        nn.InstanceNorm2d(out_channels), #! why Instancenorm and not batch?\n",
        "        nn.LeakyReLU(0.2,inplace = True) # why inplace?\n",
        "    )\n",
        "\n",
        "  def forward(self,x):\n",
        "    return self.conv(x)"
      ],
      "metadata": {
        "id": "Qg13XdBhofwT"
      },
      "execution_count": 42,
      "outputs": []
    },
    {
      "cell_type": "code",
      "source": [
        "class Discriminator(nn.Module):\n",
        "  def __init__(self,in_channels = 3, features = [64,128,256,512]): #256 -> 30x30\n",
        "    super().__init__()\n",
        "    self.initial = nn.Sequential(\n",
        "        nn.Conv2d(in_channels,features[0],kernel_size=4,stride=2,padding=1,padding_mode = \"reflect\"),\n",
        "        nn.LeakyReLU(0.2,inplace = True),\n",
        "    )\n",
        "\n",
        "    layers = []\n",
        "    in_channels = features[0]\n",
        "    for feature in features[1:]:\n",
        "      layers.append(\n",
        "          BlockDisc(in_channels,feature,stride = 1 if feature == features[-1] else 2),\n",
        "      )\n",
        "      in_channels = feature\n",
        "    layers.append( # !!\n",
        "        nn.Conv2d(in_channels,1,kernel_size=4,stride=1,padding=1,padding_mode = \"reflect\"),\n",
        "    )\n",
        "    self.model = nn.Sequential(*layers)\n",
        "\n",
        "  def forward(self,x): # why not cat and why not y in arguments?\n",
        "    #x  = torch.cat([x,y], dim = 1)\n",
        "    x  = self.initial(x)\n",
        "    return torch.sigmoid(self.model(x)) #!"
      ],
      "metadata": {
        "id": "urgKoRSasipT"
      },
      "execution_count": 43,
      "outputs": []
    },
    {
      "cell_type": "code",
      "source": [
        "def test():\n",
        "  x = torch.randn((5,3,256,256))\n",
        "  model = Discriminator(in_channels=3)\n",
        "  preds = model(x)\n",
        "  print(preds.shape)"
      ],
      "metadata": {
        "id": "u8pH9e4LtCbB"
      },
      "execution_count": 44,
      "outputs": []
    },
    {
      "cell_type": "code",
      "source": [
        "test()"
      ],
      "metadata": {
        "colab": {
          "base_uri": "https://localhost:8080/"
        },
        "id": "agfERZ5VtVe1",
        "outputId": "3fd79fb5-5d46-403b-a7ac-c46159c32c95"
      },
      "execution_count": 45,
      "outputs": [
        {
          "output_type": "stream",
          "name": "stdout",
          "text": [
            "torch.Size([5, 1, 30, 30])\n"
          ]
        }
      ]
    },
    {
      "cell_type": "code",
      "source": [
        "class ConvBlock(nn.Module):\n",
        "  def __init__(self,in_channels,out_channels,down = True,act = True, **kwargs): #!\n",
        "    super().__init__()\n",
        "    self.conv = nn.Sequential( #!\n",
        "        nn.Conv2d(in_channels,out_channels, **kwargs ,bias = False, padding_mode=\"reflect\")\n",
        "        if down\n",
        "        else nn.ConvTranspose2d(in_channels,out_channels, **kwargs,bias = False),\n",
        "        nn.InstanceNorm2d(out_channels),\n",
        "        nn.ReLU(inplace=True) if act else nn.Identity(),\n",
        "    )\n",
        "\n",
        "  def forward(self,x):\n",
        "    return self.conv(x)"
      ],
      "metadata": {
        "id": "ISc0fhObwjzt"
      },
      "execution_count": 46,
      "outputs": []
    },
    {
      "cell_type": "code",
      "source": [
        "class ResidualBlock(nn.Module):\n",
        "  def __init__(self,channels):\n",
        "    super().__init__()\n",
        "    self.resid = nn.Sequential(\n",
        "        ConvBlock(channels,channels,kernel_size = 3, padding = 1),\n",
        "        ConvBlock(channels,channels,act = False,kernel_size = 3, padding = 1) ,\n",
        "    )\n",
        "\n",
        "  def forward(self,x):\n",
        "    return x + self.resid(x) # why x + ?"
      ],
      "metadata": {
        "id": "X2NtilYVx71t"
      },
      "execution_count": 47,
      "outputs": []
    },
    {
      "cell_type": "code",
      "source": [
        "class Generator(nn.Module):\n",
        "  def __init__(self,img_channels,num_features = 64, num_residuals = 9):\n",
        "    super().__init__()\n",
        "    self.initial = nn.Sequential(\n",
        "        nn.Conv2d(img_channels,num_features,kernel_size = 7,stride = 1, padding = 3 , padding_mode = \"reflect\"),\n",
        "        nn.ReLU(inplace = True),\n",
        "    )\n",
        "    self.encoder = nn.ModuleList(\n",
        "        [\n",
        "            ConvBlock(num_features,num_features * 2, down = True,kernel_size = 3,stride = 2,padding = 1),\n",
        "            ConvBlock(num_features*2,num_features * 4, down = True,kernel_size = 3,stride = 2,padding = 1)\n",
        "        ]\n",
        "    )\n",
        "\n",
        "    self.residuals = nn.Sequential(\n",
        "        *[\n",
        "            ResidualBlock(num_features*4) for _ in range(num_residuals)\n",
        "        ]\n",
        "    )\n",
        "\n",
        "    self.decoder = nn.ModuleList(\n",
        "        [\n",
        "            ConvBlock(num_features*4,num_features * 2, down = False,kernel_size = 3,stride = 2,padding = 1,output_padding = 1),\n",
        "            ConvBlock(num_features*2,num_features, down = False,kernel_size = 3,stride = 2,padding = 1,output_padding = 1)\n",
        "        ]\n",
        "    )\n",
        "\n",
        "    self.last = nn.Conv2d(num_features, img_channels,kernel_size=7,stride = 1, padding=3,padding_mode = \"reflect\")\n",
        "\n",
        "  def forward(self,x):\n",
        "    x = self.initial(x)\n",
        "    for layer in self.encoder:\n",
        "      x = layer(x)\n",
        "    x = self.residuals(x)\n",
        "    for layer in self.decoder:\n",
        "      x = layer(x)\n",
        "    return torch.tanh(self.last(x))"
      ],
      "metadata": {
        "id": "EPi2hChNzf9u"
      },
      "execution_count": 48,
      "outputs": []
    },
    {
      "cell_type": "code",
      "source": [
        "def test():\n",
        "    x = torch.randn((2, 3, 256, 256))\n",
        "    gen = Generator(3, 9)\n",
        "    print(gen(x).shape)"
      ],
      "metadata": {
        "id": "ln0eV5ab2k11"
      },
      "execution_count": 49,
      "outputs": []
    },
    {
      "cell_type": "code",
      "source": [
        "test()"
      ],
      "metadata": {
        "colab": {
          "base_uri": "https://localhost:8080/"
        },
        "id": "r6adJ1BY2vSx",
        "outputId": "9a6e9d2f-753a-45e1-c3cf-f9744c556cef"
      },
      "execution_count": 50,
      "outputs": [
        {
          "output_type": "stream",
          "name": "stdout",
          "text": [
            "torch.Size([2, 3, 256, 256])\n"
          ]
        }
      ]
    },
    {
      "cell_type": "code",
      "source": [
        "\n",
        "import sys\n",
        "from torch.utils.data import DataLoader\n",
        "import torch.nn as nn\n",
        "import torch.optim as optim\n",
        "from tqdm import tqdm\n",
        "from torchvision.utils import save_image\n",
        "\n",
        "def train_fn(disc_X,disc_Y,gen_Y,gen_X,loader,opt_disc,opt_gen,L1,mse,d_scaler,g_scaler):\n",
        "  loop = tqdm(loader,leave = True)\n",
        "\n",
        "  for idx, (Y,X) in enumerate(loop):\n",
        "    Y = Y.to(DEVICE)\n",
        "    X = X.to(DEVICE)\n",
        "\n",
        "    with torch.cuda.amp.autocast():\n",
        "      fake_X = gen_X(Y)\n",
        "      D_X_real = disc_X(X)\n",
        "      D_X_fake = disc_X(fake_X.detach())\n",
        "      D_X_real_loss = mse(D_X_real, torch.ones_like(D_X_real))\n",
        "      D_X_fake_loss = mse(D_X_fake, torch.zeros_like(D_X_fake))\n",
        "      D_X_loss = D_X_real_loss + D_X_fake_loss\n",
        "\n",
        "      fake_Y = gen_Y(X)\n",
        "      D_Y_real = disc_Y(Y)\n",
        "      D_Y_fake = disc_Y(fake_Y.detach())\n",
        "      D_Y_real_loss = mse(D_Y_real, torch.ones_like(D_Y_real))\n",
        "      D_Y_fake_loss = mse(D_Y_fake, torch.zeros_like(D_Y_fake))\n",
        "      D_Y_loss = D_Y_real_loss + D_Y_fake_loss\n",
        "\n",
        "      D_loss = (D_X_loss + D_Y_loss) /2\n",
        "\n",
        "    opt_disc.zero_grad()\n",
        "    d_scaler.scale(D_loss).backward()\n",
        "    d_scaler.step(opt_disc)\n",
        "    d_scaler.update()\n",
        "\n",
        "\n",
        "    with torch.cuda.amp.autocast():\n",
        "      # adversarial loss for both generators\n",
        "      D_X_fake = disc_X(fake_X)\n",
        "      D_Y_fake = disc_Y(fake_Y)\n",
        "      loss_G_X = mse(D_X_fake,torch.ones_like(D_X_fake))\n",
        "      loss_G_Y = mse(D_Y_fake,torch.ones_like(D_Y_fake))\n",
        "\n",
        "      # cycle loss\n",
        "      cycle_Y = gen_Y(fake_X)\n",
        "      cycle_X = gen_X(fake_Y)\n",
        "      cycle_Y_loss = L1(Y, cycle_Y)\n",
        "      cycle_X_loss = L1(X, cycle_X)\n",
        "\n",
        "      # identity loss\n",
        "      identity_Y = gen_Y(Y)\n",
        "      identity_X = gen_X(X)\n",
        "      identity_Y_loss = L1(Y, identity_Y)\n",
        "      identity_X_loss = L1(X, identity_X)\n",
        "\n",
        "\n",
        "      G_loss = (loss_G_X + loss_G_Y + cycle_Y_loss * LAMBDA_CYCLE + cycle_X_loss * LAMBDA_CYCLE + identity_Y_loss * LAMBDA_IDENTITY + identity_X_loss * LAMBDA_IDENTITY)\n",
        "\n",
        "    opt_gen.zero_grad()\n",
        "    g_scaler.scale(G_loss).backward()\n",
        "    g_scaler.step(opt_gen)\n",
        "    g_scaler.update()\n",
        "\n",
        "    if idx % 200 == 0:\n",
        "      save_image(fake_X * 0.5 + 0.5, f\"saved_images/X_{idx}.png\")\n",
        "      save_image(fake_Y * 0.5 + 0.5, f\"saved_images/Y_{idx}.png\")\n",
        "def main():\n",
        "    disc_X = Discriminator(in_channels=3).to(DEVICE)\n",
        "    disc_Y = Discriminator(in_channels=3).to(DEVICE)\n",
        "    gen_Y = Generator(img_channels=3, num_residuals=9).to(DEVICE) #X->Y\n",
        "    gen_X = Generator(img_channels=3, num_residuals=9).to(DEVICE) #Y->X\n",
        "\n",
        "    opt_disc = optim.Adam(list(disc_X.parameters()) + list(disc_Y.parameters()),lr=LEARNING_RATE,betas=(0.5, 0.999),)\n",
        "    opt_gen = optim.Adam(list(gen_Y.parameters()) + list(gen_X.parameters()),lr=LEARNING_RATE,betas=(0.5, 0.999),)\n",
        "\n",
        "    L1 = nn.L1Loss()\n",
        "    mse = nn.MSELoss()\n",
        "\n",
        "    if LOAD_MODEL:\n",
        "        load_checkpoint(CHECKPOINT_GEN_Y,gen_X,opt_gen,LEARNING_RATE,)\n",
        "        load_checkpoint(CHECKPOINT_GEN_Y,gen_Y,opt_gen,LEARNING_RATE,)\n",
        "        load_checkpoint(CHECKPOINT_CRITIC_X,disc_X,opt_disc,LEARNING_RATE,)\n",
        "        load_checkpoint(CHECKPOINT_CRITIC_Y,disc_Y,opt_disc,LEARNING_RATE,)\n",
        "\n",
        "    dataset = XYDataset(root_X=TRAIN_DIR + \"/X\",root_Y=TRAIN_DIR + \"/Y\",transform=transforms,)\n",
        "    val_dataset = XYDataset(root_X=\"cyclegan_test/X1\",root_Y=\"cyclegan_test/Y1\",transform=transforms,)\n",
        "    val_loader = DataLoader(val_dataset,batch_size=1,shuffle=False,pin_memory=True,)\n",
        "    loader = DataLoader(dataset,batch_size=BATCH_SIZE,shuffle=True,num_workers=NUM_WORKERS,pin_memory=True,)\n",
        "    g_scaler = torch.cuda.amp.GradScaler()\n",
        "    d_scaler = torch.cuda.amp.GradScaler()\n",
        "\n",
        "    for epoch in range(NUM_EPOCHS):\n",
        "        train_fn(disc_X,disc_Y,gen_Y,gen_X,loader,opt_disc,opt_gen,L1,mse,d_scaler,g_scaler,)\n",
        "\n",
        "        if SAVE_MODEL:\n",
        "            save_checkpoint(gen_X, opt_gen, filename=CHECKPOINT_GEN_Y)\n",
        "            save_checkpoint(gen_Y, opt_gen, filename=CHECKPOINT_GEN_X)\n",
        "            save_checkpoint(disc_X, opt_disc, filename=CHECKPOINT_CRITIC_X)\n",
        "            save_checkpoint(disc_Y, opt_disc, filename=CHECKPOINT_CRITIC_Y)\n",
        "\n",
        "\n",
        "if __name__ == \"__main__\":\n",
        "  main()"
      ],
      "metadata": {
        "id": "NLtFqaM-8NSa",
        "colab": {
          "base_uri": "https://localhost:8080/"
        },
        "outputId": "c5a0e4ee-2117-4c14-ceb5-4c1a43a5bfa3"
      },
      "execution_count": 53,
      "outputs": [
        {
          "output_type": "stream",
          "name": "stderr",
          "text": [
            "100%|██████████| 1334/1334 [05:30<00:00,  4.04it/s]\n",
            "100%|██████████| 1334/1334 [05:29<00:00,  4.05it/s]\n",
            "100%|██████████| 1334/1334 [05:29<00:00,  4.05it/s]\n",
            "100%|██████████| 1334/1334 [05:29<00:00,  4.05it/s]\n",
            "100%|██████████| 1334/1334 [05:28<00:00,  4.06it/s]\n",
            "100%|██████████| 1334/1334 [05:28<00:00,  4.06it/s]\n",
            "100%|██████████| 1334/1334 [05:29<00:00,  4.05it/s]\n",
            "100%|██████████| 1334/1334 [05:28<00:00,  4.06it/s]\n",
            "100%|██████████| 1334/1334 [05:28<00:00,  4.06it/s]\n",
            "100%|██████████| 1334/1334 [05:29<00:00,  4.05it/s]\n"
          ]
        }
      ]
    },
    {
      "cell_type": "code",
      "source": [
        "!rmdir data/train/Y/.ipynb_checkpoints"
      ],
      "metadata": {
        "id": "1cKsen8hM9RO"
      },
      "execution_count": 52,
      "outputs": []
    }
  ]
}