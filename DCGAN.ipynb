{
  "nbformat": 4,
  "nbformat_minor": 0,
  "metadata": {
    "colab": {
      "provenance": [],
      "gpuType": "T4"
    },
    "kernelspec": {
      "name": "python3",
      "display_name": "Python 3"
    },
    "language_info": {
      "name": "python"
    },
    "accelerator": "GPU"
  },
  "cells": [
    {
      "cell_type": "code",
      "execution_count": 23,
      "metadata": {
        "id": "LWBFUy2TXiaZ"
      },
      "outputs": [],
      "source": [
        "import torch\n",
        "import torch.nn as nn\n",
        "from torch.nn.modules.batchnorm import BatchNorm2d\n",
        "from torch.nn.modules.activation import ReLU"
      ]
    },
    {
      "cell_type": "code",
      "source": [
        "class Discriminator(nn.Module):\n",
        "  def __init__ (self, channels_img, features_d):\n",
        "    super(Discriminator,self).__init__()\n",
        "    self.disc = nn.Sequential(\n",
        "        #64x64\n",
        "        nn.Conv2d(channels_img, features_d, kernel_size=4,stride=2, padding = 1),#32x32\n",
        "        nn.LeakyReLU(0.2),\n",
        "        self._block(features_d,features_d * 2 , 4 , 2 , 1),#16x16\n",
        "        self._block(features_d * 2,features_d * 4 , 4 , 2 , 1),#8x8\n",
        "        self._block(features_d * 4,features_d * 8 , 4 , 2 , 1),#4x4\n",
        "        nn.Conv2d(features_d*8,1, kernel_size=4,stride=2, padding = 0),#1x1\n",
        "        nn.Sigmoid(),\n",
        "    )\n",
        "\n",
        "  def _block(self, in_channels, out_channels, kernel_size, stride, padding):\n",
        "    return nn.Sequential(\n",
        "        nn.Conv2d(\n",
        "            in_channels,\n",
        "            out_channels,\n",
        "            kernel_size,\n",
        "            stride,\n",
        "            padding,\n",
        "            bias = False,\n",
        "        ),\n",
        "        nn.BatchNorm2d(out_channels),\n",
        "        nn.LeakyReLU(0.2),\n",
        "    )\n",
        "  def forward(self,x):\n",
        "    return self.disc(x)"
      ],
      "metadata": {
        "id": "FmGtLl6ffx2p"
      },
      "execution_count": 24,
      "outputs": []
    },
    {
      "cell_type": "code",
      "source": [
        "class Generator(nn.Module):\n",
        "  def __init__ (self,z_dim,channels_img,features_g):\n",
        "    super(Generator,self).__init__()\n",
        "    self.net = nn.Sequential(\n",
        "        # N x z_dim x 1 x 1\n",
        "        self._block(z_dim,features_g * 16, 4 , 1 , 0),# N x f_g*16 x 4 x 4\n",
        "        self._block(features_g * 16,features_g * 8, 4 , 2 , 1),# 8x8\n",
        "        self._block(features_g * 8,features_g * 4, 4 , 2 , 1),# 16x16\n",
        "        self._block(features_g * 4,features_g * 2, 4 , 2 , 1),# 32x32\n",
        "        nn.ConvTranspose2d(features_g*2,channels_img,kernel_size=4,stride = 2, padding = 1,),\n",
        "        nn.Tanh(),\n",
        "    )\n",
        "  def _block(self,in_channels,out_channels,kernel_size,stride,padding):\n",
        "    return nn.Sequential(\n",
        "        nn.ConvTranspose2d(\n",
        "            in_channels,\n",
        "            out_channels,\n",
        "            kernel_size,\n",
        "            stride,\n",
        "            padding,\n",
        "            bias = False,\n",
        "        ),\n",
        "        nn.BatchNorm2d(out_channels),\n",
        "        nn.ReLU(),\n",
        "    )\n",
        "  def forward(self,x):\n",
        "    return self.net(x)"
      ],
      "metadata": {
        "id": "xok7HCiah0Nq"
      },
      "execution_count": 25,
      "outputs": []
    },
    {
      "cell_type": "code",
      "source": [
        "def initialize_weights(model):\n",
        "  for m in model.modules():\n",
        "    if isinstance(m,(nn.Conv2d, nn.ConvTranspose2d, nn.BatchNorm2d)):\n",
        "      nn.init.normal_(m.weight,0.0,0.02)"
      ],
      "metadata": {
        "id": "hazb-kd7k4DW"
      },
      "execution_count": 26,
      "outputs": []
    },
    {
      "cell_type": "code",
      "source": [
        "def test():\n",
        "  N, in_channels, H, W = 8, 3, 64, 64\n",
        "  z_dim = 100\n",
        "\n",
        "  x = torch.randn((N, in_channels, H, W))\n",
        "  disc = Discriminator(in_channels,8)\n",
        "  assert disc(x).shape == (N, 1, 1, 1), \"Discriminator test failed\" # what assert is?\n",
        "\n",
        "  gen = Generator(z_dim, in_channels, 8)\n",
        "  z = torch.randn((N, z_dim, 1, 1))\n",
        "  assert gen(z).shape == (N, in_channels, H, W), \"Generator test failed\" # what assert is?\n",
        "  print(\"success\")"
      ],
      "metadata": {
        "id": "PmFyNlFup6HR"
      },
      "execution_count": 27,
      "outputs": []
    },
    {
      "cell_type": "code",
      "source": [
        "test()"
      ],
      "metadata": {
        "colab": {
          "base_uri": "https://localhost:8080/"
        },
        "id": "ZqugjuzeqbGr",
        "outputId": "f6197526-73fe-449d-91df-5997a385dcc2"
      },
      "execution_count": 28,
      "outputs": [
        {
          "output_type": "stream",
          "name": "stdout",
          "text": [
            "success\n"
          ]
        }
      ]
    },
    {
      "cell_type": "code",
      "source": [
        "import torch.optim as optim\n",
        "import torchvision\n",
        "import torchvision.datasets as datasets\n",
        "import torchvision.transforms as transforms\n",
        "from torch.utils.data import DataLoader\n",
        "from torch.utils.tensorboard import SummaryWriter"
      ],
      "metadata": {
        "id": "pzRPX0a4vNkx"
      },
      "execution_count": 29,
      "outputs": []
    },
    {
      "cell_type": "code",
      "source": [
        "# Hyperparameters etc.\n",
        "device = torch.device(\"cuda\" if torch.cuda.is_available() else \"cpu\")\n",
        "LEARNING_RATE = 2e-4\n",
        "BATCH_SIZE = 128\n",
        "IMAGE_SIZE = 64\n",
        "CHANNELS_IMG = 1\n",
        "Z_DIM = 100\n",
        "NUM_EPOCHS = 5\n",
        "FEATURES_DISC = 64\n",
        "FEATURES_GEN = 64"
      ],
      "metadata": {
        "id": "ZsTZ0F1xvTBb"
      },
      "execution_count": 30,
      "outputs": []
    },
    {
      "cell_type": "code",
      "source": [
        "transforms = transforms.Compose(\n",
        "    [\n",
        "        transforms.Resize(IMAGE_SIZE),\n",
        "        transforms.ToTensor(),\n",
        "        transforms.Normalize(\n",
        "            [0.5 for _ in range(CHANNELS_IMG)], [0.5 for _ in range(CHANNELS_IMG)]\n",
        "        ),\n",
        "    ]\n",
        ")"
      ],
      "metadata": {
        "id": "yo9RaSa1wg36"
      },
      "execution_count": 31,
      "outputs": []
    },
    {
      "cell_type": "code",
      "source": [
        "dataset = datasets.MNIST(root = \"dataset/\",train = True, transform = transforms, download = True)\n",
        "loader = DataLoader(dataset,batch_size = BATCH_SIZE,shuffle = True)"
      ],
      "metadata": {
        "id": "FapM2gWIwhYo"
      },
      "execution_count": 32,
      "outputs": []
    },
    {
      "cell_type": "code",
      "source": [
        "gen = Generator(Z_DIM, CHANNELS_IMG,FEATURES_GEN).to(device)\n",
        "disc = Discriminator(CHANNELS_IMG,FEATURES_GEN).to(device)\n",
        "initialize_weights(gen)\n",
        "initialize_weights(disc)"
      ],
      "metadata": {
        "id": "XFzzt7vOxcSc"
      },
      "execution_count": 33,
      "outputs": []
    },
    {
      "cell_type": "code",
      "source": [
        "opt_gen = optim.Adam(gen.parameters(),lr = LEARNING_RATE,betas=(0.5,0.999))\n",
        "opt_disc = optim.Adam(disc.parameters(),lr = LEARNING_RATE,betas=(0.5,0.999))\n",
        "criterion = nn.BCELoss()"
      ],
      "metadata": {
        "id": "m-YedZXdx6oH"
      },
      "execution_count": 34,
      "outputs": []
    },
    {
      "cell_type": "code",
      "source": [
        "fixed_noise = torch.randn(32, Z_DIM, 1, 1).to(device)\n",
        "writen_real = SummaryWriter(f\"logs/real\")\n",
        "writen_fake = SummaryWriter(f\"logs/fake\")\n",
        "step = 0"
      ],
      "metadata": {
        "id": "kmf1vUU2yJ1c"
      },
      "execution_count": 41,
      "outputs": []
    },
    {
      "cell_type": "code",
      "source": [
        "gen.train()\n",
        "disc.train()"
      ],
      "metadata": {
        "colab": {
          "base_uri": "https://localhost:8080/"
        },
        "id": "QHazflRmywLe",
        "outputId": "2cc3b0f1-5cec-4969-ae5d-780e9b1205a8"
      },
      "execution_count": 36,
      "outputs": [
        {
          "output_type": "execute_result",
          "data": {
            "text/plain": [
              "Discriminator(\n",
              "  (disc): Sequential(\n",
              "    (0): Conv2d(1, 64, kernel_size=(4, 4), stride=(2, 2), padding=(1, 1))\n",
              "    (1): LeakyReLU(negative_slope=0.2)\n",
              "    (2): Sequential(\n",
              "      (0): Conv2d(64, 128, kernel_size=(4, 4), stride=(2, 2), padding=(1, 1), bias=False)\n",
              "      (1): BatchNorm2d(128, eps=1e-05, momentum=0.1, affine=True, track_running_stats=True)\n",
              "      (2): LeakyReLU(negative_slope=0.2)\n",
              "    )\n",
              "    (3): Sequential(\n",
              "      (0): Conv2d(128, 256, kernel_size=(4, 4), stride=(2, 2), padding=(1, 1), bias=False)\n",
              "      (1): BatchNorm2d(256, eps=1e-05, momentum=0.1, affine=True, track_running_stats=True)\n",
              "      (2): LeakyReLU(negative_slope=0.2)\n",
              "    )\n",
              "    (4): Sequential(\n",
              "      (0): Conv2d(256, 512, kernel_size=(4, 4), stride=(2, 2), padding=(1, 1), bias=False)\n",
              "      (1): BatchNorm2d(512, eps=1e-05, momentum=0.1, affine=True, track_running_stats=True)\n",
              "      (2): LeakyReLU(negative_slope=0.2)\n",
              "    )\n",
              "    (5): Conv2d(512, 1, kernel_size=(4, 4), stride=(2, 2))\n",
              "    (6): Sigmoid()\n",
              "  )\n",
              ")"
            ]
          },
          "metadata": {},
          "execution_count": 36
        }
      ]
    },
    {
      "cell_type": "code",
      "source": [
        "for epoch in range(NUM_EPOCHS):\n",
        "  for batch_idx, (real, _) in enumerate(loader):\n",
        "    real = real.to(device)\n",
        "    noise = torch.randn((BATCH_SIZE,Z_DIM,1,1)).to(device)\n",
        "    fake = gen(noise)\n",
        "\n",
        "    disc_real = disc(real).reshape(-1)\n",
        "    loss_disc_real = criterion(disc_real, torch.ones_like(disc_real))\n",
        "    disc_fake = disc(fake.detach()).reshape(-1)\n",
        "    loss_disc_fake = criterion(disc_fake, torch.zeros_like(disc_fake))\n",
        "    loss_disc = (loss_disc_real + loss_disc_fake) / 2\n",
        "    disc.zero_grad()\n",
        "    loss_disc.backward()\n",
        "    opt_disc.step()\n",
        "\n",
        "    output = disc(fake).reshape(-1)\n",
        "    loss_gen = criterion(output, torch.ones_like(output))\n",
        "    gen.zero_grad()\n",
        "    loss_gen.backward()\n",
        "    opt_gen.step()\n",
        "\n",
        "    if batch_idx % 100 == 0:\n",
        "        print(\n",
        "            f\"Epoch [{epoch}/{NUM_EPOCHS}] Batch {batch_idx}/{len(loader)} \\\n",
        "              Loss D: {loss_disc:.4f}, loss G: {loss_gen:.4f}\"\n",
        "        )\n",
        "\n",
        "        with torch.no_grad():\n",
        "            fake = gen(fixed_noise)\n",
        "            # take out (up to) 32 examples\n",
        "            img_grid_real = torchvision.utils.make_grid(real[:32], normalize=True)\n",
        "            img_grid_fake = torchvision.utils.make_grid(fake[:32], normalize=True)\n",
        "\n",
        "            writen_real.add_image(\"Real\", img_grid_real, global_step=step)\n",
        "            writen_fake.add_image(\"Fake\", img_grid_fake, global_step=step)\n",
        "\n",
        "        step += 1"
      ],
      "metadata": {
        "id": "m9FYW07ky08c"
      },
      "execution_count": null,
      "outputs": []
    },
    {
      "cell_type": "code",
      "source": [
        "%load_ext tensorboard\n",
        "%tensorboard --logdir logs/ --port=6010"
      ],
      "metadata": {
        "id": "jwDWOgva4a4v"
      },
      "execution_count": null,
      "outputs": []
    }
  ]
}